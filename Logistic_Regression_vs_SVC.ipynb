{
 "cells": [
  {
   "cell_type": "markdown",
   "metadata": {},
   "source": [
    "# Comparing Logistic regression and Linear SVM models and scaling effect\n",
    "\n",
    "\n",
    "In this notebook, the main objective is to understand the different models and compare their capabilities, we also look scaling and how applying it helps in certain machine learning models.\n",
    "\n",
    "By the end of this notebook you should have:\n",
    "\n",
    "- gained experience with building different models and ploting the results.\n",
    "- a better understanding of scaling and how it affects different models.\n",
    "- effect of regularization on different models."
   ]
  },
  {
   "cell_type": "markdown",
   "metadata": {},
   "source": [
    "### 1- By observing the data and without building a machine learning model, confirm if the data requires scaling or not, and explain how you came to a conclusion and confirm this with a plot."
   ]
  },
  {
   "cell_type": "markdown",
   "metadata": {},
   "source": [
    "## Step 1\n",
    "### Importing packages\n",
    "##### - Numpy packages are used to work on array\n",
    "##### - Pandas packages are used for working on dataframes while fetching the data from csv and while creating features and target dataframe for Machine learning models.\n",
    "##### - Matplotlib packages are used for plotting/visualing the data."
   ]
  },
  {
   "cell_type": "code",
   "execution_count": 1,
   "metadata": {},
   "outputs": [],
   "source": [
    "#Import standard packages\n",
    "\n",
    "import numpy as np\n",
    "import pandas as pd\n",
    "import matplotlib.pyplot as plt"
   ]
  },
  {
   "cell_type": "markdown",
   "metadata": {},
   "source": [
    "### Importing data\n",
    "##### - using read_csv() function of pandas to fetch the data from our csv file into a dataframe.\n",
    "##### - our dataset is of customer churn data of a telecom company, based on various characteristics we can predict whether the customer will leave or not"
   ]
  },
  {
   "cell_type": "code",
   "execution_count": 2,
   "metadata": {},
   "outputs": [
    {
     "data": {
      "text/html": [
       "<div>\n",
       "<style scoped>\n",
       "    .dataframe tbody tr th:only-of-type {\n",
       "        vertical-align: middle;\n",
       "    }\n",
       "\n",
       "    .dataframe tbody tr th {\n",
       "        vertical-align: top;\n",
       "    }\n",
       "\n",
       "    .dataframe thead th {\n",
       "        text-align: right;\n",
       "    }\n",
       "</style>\n",
       "<table border=\"1\" class=\"dataframe\">\n",
       "  <thead>\n",
       "    <tr style=\"text-align: right;\">\n",
       "      <th></th>\n",
       "      <th>state</th>\n",
       "      <th>account length</th>\n",
       "      <th>area code</th>\n",
       "      <th>phone number</th>\n",
       "      <th>international plan</th>\n",
       "      <th>voice mail plan</th>\n",
       "      <th>number vmail messages</th>\n",
       "      <th>total day minutes</th>\n",
       "      <th>total day calls</th>\n",
       "      <th>total day charge</th>\n",
       "      <th>...</th>\n",
       "      <th>total eve calls</th>\n",
       "      <th>total eve charge</th>\n",
       "      <th>total night minutes</th>\n",
       "      <th>total night calls</th>\n",
       "      <th>total night charge</th>\n",
       "      <th>total intl minutes</th>\n",
       "      <th>total intl calls</th>\n",
       "      <th>total intl charge</th>\n",
       "      <th>customer service calls</th>\n",
       "      <th>churn</th>\n",
       "    </tr>\n",
       "  </thead>\n",
       "  <tbody>\n",
       "    <tr>\n",
       "      <th>0</th>\n",
       "      <td>KS</td>\n",
       "      <td>128</td>\n",
       "      <td>415</td>\n",
       "      <td>382-4657</td>\n",
       "      <td>no</td>\n",
       "      <td>yes</td>\n",
       "      <td>25</td>\n",
       "      <td>265.1</td>\n",
       "      <td>110</td>\n",
       "      <td>45.07</td>\n",
       "      <td>...</td>\n",
       "      <td>99</td>\n",
       "      <td>16.78</td>\n",
       "      <td>244.7</td>\n",
       "      <td>91</td>\n",
       "      <td>11.01</td>\n",
       "      <td>10.0</td>\n",
       "      <td>3</td>\n",
       "      <td>2.70</td>\n",
       "      <td>1</td>\n",
       "      <td>False</td>\n",
       "    </tr>\n",
       "    <tr>\n",
       "      <th>1</th>\n",
       "      <td>OH</td>\n",
       "      <td>107</td>\n",
       "      <td>415</td>\n",
       "      <td>371-7191</td>\n",
       "      <td>no</td>\n",
       "      <td>yes</td>\n",
       "      <td>26</td>\n",
       "      <td>161.6</td>\n",
       "      <td>123</td>\n",
       "      <td>27.47</td>\n",
       "      <td>...</td>\n",
       "      <td>103</td>\n",
       "      <td>16.62</td>\n",
       "      <td>254.4</td>\n",
       "      <td>103</td>\n",
       "      <td>11.45</td>\n",
       "      <td>13.7</td>\n",
       "      <td>3</td>\n",
       "      <td>3.70</td>\n",
       "      <td>1</td>\n",
       "      <td>False</td>\n",
       "    </tr>\n",
       "    <tr>\n",
       "      <th>2</th>\n",
       "      <td>NJ</td>\n",
       "      <td>137</td>\n",
       "      <td>415</td>\n",
       "      <td>358-1921</td>\n",
       "      <td>no</td>\n",
       "      <td>no</td>\n",
       "      <td>0</td>\n",
       "      <td>243.4</td>\n",
       "      <td>114</td>\n",
       "      <td>41.38</td>\n",
       "      <td>...</td>\n",
       "      <td>110</td>\n",
       "      <td>10.30</td>\n",
       "      <td>162.6</td>\n",
       "      <td>104</td>\n",
       "      <td>7.32</td>\n",
       "      <td>12.2</td>\n",
       "      <td>5</td>\n",
       "      <td>3.29</td>\n",
       "      <td>0</td>\n",
       "      <td>False</td>\n",
       "    </tr>\n",
       "    <tr>\n",
       "      <th>3</th>\n",
       "      <td>OH</td>\n",
       "      <td>84</td>\n",
       "      <td>408</td>\n",
       "      <td>375-9999</td>\n",
       "      <td>yes</td>\n",
       "      <td>no</td>\n",
       "      <td>0</td>\n",
       "      <td>299.4</td>\n",
       "      <td>71</td>\n",
       "      <td>50.90</td>\n",
       "      <td>...</td>\n",
       "      <td>88</td>\n",
       "      <td>5.26</td>\n",
       "      <td>196.9</td>\n",
       "      <td>89</td>\n",
       "      <td>8.86</td>\n",
       "      <td>6.6</td>\n",
       "      <td>7</td>\n",
       "      <td>1.78</td>\n",
       "      <td>2</td>\n",
       "      <td>False</td>\n",
       "    </tr>\n",
       "    <tr>\n",
       "      <th>4</th>\n",
       "      <td>OK</td>\n",
       "      <td>75</td>\n",
       "      <td>415</td>\n",
       "      <td>330-6626</td>\n",
       "      <td>yes</td>\n",
       "      <td>no</td>\n",
       "      <td>0</td>\n",
       "      <td>166.7</td>\n",
       "      <td>113</td>\n",
       "      <td>28.34</td>\n",
       "      <td>...</td>\n",
       "      <td>122</td>\n",
       "      <td>12.61</td>\n",
       "      <td>186.9</td>\n",
       "      <td>121</td>\n",
       "      <td>8.41</td>\n",
       "      <td>10.1</td>\n",
       "      <td>3</td>\n",
       "      <td>2.73</td>\n",
       "      <td>3</td>\n",
       "      <td>False</td>\n",
       "    </tr>\n",
       "  </tbody>\n",
       "</table>\n",
       "<p>5 rows × 21 columns</p>\n",
       "</div>"
      ],
      "text/plain": [
       "  state  account length  area code phone number international plan  \\\n",
       "0    KS             128        415     382-4657                 no   \n",
       "1    OH             107        415     371-7191                 no   \n",
       "2    NJ             137        415     358-1921                 no   \n",
       "3    OH              84        408     375-9999                yes   \n",
       "4    OK              75        415     330-6626                yes   \n",
       "\n",
       "  voice mail plan  number vmail messages  total day minutes  total day calls  \\\n",
       "0             yes                     25              265.1              110   \n",
       "1             yes                     26              161.6              123   \n",
       "2              no                      0              243.4              114   \n",
       "3              no                      0              299.4               71   \n",
       "4              no                      0              166.7              113   \n",
       "\n",
       "   total day charge  ...  total eve calls  total eve charge  \\\n",
       "0             45.07  ...               99             16.78   \n",
       "1             27.47  ...              103             16.62   \n",
       "2             41.38  ...              110             10.30   \n",
       "3             50.90  ...               88              5.26   \n",
       "4             28.34  ...              122             12.61   \n",
       "\n",
       "   total night minutes  total night calls  total night charge  \\\n",
       "0                244.7                 91               11.01   \n",
       "1                254.4                103               11.45   \n",
       "2                162.6                104                7.32   \n",
       "3                196.9                 89                8.86   \n",
       "4                186.9                121                8.41   \n",
       "\n",
       "   total intl minutes  total intl calls  total intl charge  \\\n",
       "0                10.0                 3               2.70   \n",
       "1                13.7                 3               3.70   \n",
       "2                12.2                 5               3.29   \n",
       "3                 6.6                 7               1.78   \n",
       "4                10.1                 3               2.73   \n",
       "\n",
       "   customer service calls  churn  \n",
       "0                       1  False  \n",
       "1                       1  False  \n",
       "2                       0  False  \n",
       "3                       2  False  \n",
       "4                       3  False  \n",
       "\n",
       "[5 rows x 21 columns]"
      ]
     },
     "execution_count": 2,
     "metadata": {},
     "output_type": "execute_result"
    }
   ],
   "source": [
    "#https://www.kaggle.com/becksddf/churn-in-telecoms-dataset/data\n",
    "#importing the dataset as dataframe\n",
    "churn_data = pd.read_csv(\"customer_churn.csv\")\n",
    "\n",
    "#Top 5 records of dataset\n",
    "churn_data.head()"
   ]
  },
  {
   "cell_type": "markdown",
   "metadata": {},
   "source": [
    "##### By observing the feature data, we are sure that the data will require scaling as one feature has very high values whereas comparitively the other feature has low value.\n",
    "##### So the feature with high value might have a higher impact on our model then other one, in order to avoid this to happen we have to scale the feature data to normalize the values to a similar scale"
   ]
  },
  {
   "cell_type": "markdown",
   "metadata": {},
   "source": [
    "#### Plotting the features distribution\n",
    "##### - by plotting the features, we can understand the magnitude of each feature\n",
    "##### - from plot we can observe, one feature has a high values compare to other two"
   ]
  },
  {
   "cell_type": "code",
   "execution_count": 3,
   "metadata": {},
   "outputs": [
    {
     "data": {
      "text/plain": [
       "<matplotlib.axes._subplots.AxesSubplot at 0x1fe2bf9da08>"
      ]
     },
     "execution_count": 3,
     "metadata": {},
     "output_type": "execute_result"
    },
    {
     "data": {
      "image/png": "[encoded data removed]",
      "text/plain": [
       "<Figure size 864x360 with 1 Axes>"
      ]
     },
     "metadata": {
      "needs_background": "light"
     },
     "output_type": "display_data"
    }
   ],
   "source": [
    "churn_data[:100].plot(y=['total eve calls','total intl calls', 'total intl charge'], figsize=(12,5))"
   ]
  },
  {
   "cell_type": "markdown",
   "metadata": {},
   "source": [
    "## Creating feature and target data\n",
    "##### Converting categorical variable into numeric"
   ]
  },
  {
   "cell_type": "code",
   "execution_count": 4,
   "metadata": {},
   "outputs": [
    {
     "data": {
      "text/html": [
       "<div>\n",
       "<style scoped>\n",
       "    .dataframe tbody tr th:only-of-type {\n",
       "        vertical-align: middle;\n",
       "    }\n",
       "\n",
       "    .dataframe tbody tr th {\n",
       "        vertical-align: top;\n",
       "    }\n",
       "\n",
       "    .dataframe thead th {\n",
       "        text-align: right;\n",
       "    }\n",
       "</style>\n",
       "<table border=\"1\" class=\"dataframe\">\n",
       "  <thead>\n",
       "    <tr style=\"text-align: right;\">\n",
       "      <th></th>\n",
       "      <th>international plan</th>\n",
       "    </tr>\n",
       "  </thead>\n",
       "  <tbody>\n",
       "    <tr>\n",
       "      <th>0</th>\n",
       "      <td>0</td>\n",
       "    </tr>\n",
       "    <tr>\n",
       "      <th>1</th>\n",
       "      <td>0</td>\n",
       "    </tr>\n",
       "    <tr>\n",
       "      <th>2</th>\n",
       "      <td>0</td>\n",
       "    </tr>\n",
       "    <tr>\n",
       "      <th>3</th>\n",
       "      <td>1</td>\n",
       "    </tr>\n",
       "    <tr>\n",
       "      <th>4</th>\n",
       "      <td>1</td>\n",
       "    </tr>\n",
       "  </tbody>\n",
       "</table>\n",
       "</div>"
      ],
      "text/plain": [
       "   international plan\n",
       "0                   0\n",
       "1                   0\n",
       "2                   0\n",
       "3                   1\n",
       "4                   1"
      ]
     },
     "execution_count": 4,
     "metadata": {},
     "output_type": "execute_result"
    }
   ],
   "source": [
    "#importing LabelEncode from sklearn\n",
    "from sklearn.preprocessing import LabelEncoder\n",
    "\n",
    "#Creating label encoder object\n",
    "le = LabelEncoder()\n",
    "\n",
    "#fitting nd transforming categorical feature into label encoder\n",
    "ip = le.fit_transform((churn_data[['international plan']].values.ravel()).astype('str'))\n",
    "ip\n",
    "\n",
    "#creating data frame after transformtion\n",
    "df1 = pd.DataFrame(ip, columns = [\"international plan\"])\n",
    "df1.head()"
   ]
  },
  {
   "cell_type": "markdown",
   "metadata": {},
   "source": [
    "#### Creating feature dataframe from the actual dataset"
   ]
  },
  {
   "cell_type": "code",
   "execution_count": 5,
   "metadata": {},
   "outputs": [
    {
     "data": {
      "text/html": [
       "<div>\n",
       "<style scoped>\n",
       "    .dataframe tbody tr th:only-of-type {\n",
       "        vertical-align: middle;\n",
       "    }\n",
       "\n",
       "    .dataframe tbody tr th {\n",
       "        vertical-align: top;\n",
       "    }\n",
       "\n",
       "    .dataframe thead th {\n",
       "        text-align: right;\n",
       "    }\n",
       "</style>\n",
       "<table border=\"1\" class=\"dataframe\">\n",
       "  <thead>\n",
       "    <tr style=\"text-align: right;\">\n",
       "      <th></th>\n",
       "      <th>number vmail messages</th>\n",
       "      <th>total day minutes</th>\n",
       "      <th>total day calls</th>\n",
       "      <th>total day charge</th>\n",
       "      <th>total eve calls</th>\n",
       "      <th>total eve charge</th>\n",
       "      <th>total night minutes</th>\n",
       "      <th>total night calls</th>\n",
       "      <th>total night charge</th>\n",
       "      <th>total intl minutes</th>\n",
       "      <th>total intl calls</th>\n",
       "      <th>total intl charge</th>\n",
       "      <th>customer service calls</th>\n",
       "      <th>churn</th>\n",
       "      <th>international plan</th>\n",
       "    </tr>\n",
       "  </thead>\n",
       "  <tbody>\n",
       "    <tr>\n",
       "      <th>0</th>\n",
       "      <td>25</td>\n",
       "      <td>265.1</td>\n",
       "      <td>110</td>\n",
       "      <td>45.07</td>\n",
       "      <td>99</td>\n",
       "      <td>16.78</td>\n",
       "      <td>244.7</td>\n",
       "      <td>91</td>\n",
       "      <td>11.01</td>\n",
       "      <td>10.0</td>\n",
       "      <td>3</td>\n",
       "      <td>2.70</td>\n",
       "      <td>1</td>\n",
       "      <td>False</td>\n",
       "      <td>0</td>\n",
       "    </tr>\n",
       "    <tr>\n",
       "      <th>1</th>\n",
       "      <td>26</td>\n",
       "      <td>161.6</td>\n",
       "      <td>123</td>\n",
       "      <td>27.47</td>\n",
       "      <td>103</td>\n",
       "      <td>16.62</td>\n",
       "      <td>254.4</td>\n",
       "      <td>103</td>\n",
       "      <td>11.45</td>\n",
       "      <td>13.7</td>\n",
       "      <td>3</td>\n",
       "      <td>3.70</td>\n",
       "      <td>1</td>\n",
       "      <td>False</td>\n",
       "      <td>0</td>\n",
       "    </tr>\n",
       "    <tr>\n",
       "      <th>2</th>\n",
       "      <td>0</td>\n",
       "      <td>243.4</td>\n",
       "      <td>114</td>\n",
       "      <td>41.38</td>\n",
       "      <td>110</td>\n",
       "      <td>10.30</td>\n",
       "      <td>162.6</td>\n",
       "      <td>104</td>\n",
       "      <td>7.32</td>\n",
       "      <td>12.2</td>\n",
       "      <td>5</td>\n",
       "      <td>3.29</td>\n",
       "      <td>0</td>\n",
       "      <td>False</td>\n",
       "      <td>0</td>\n",
       "    </tr>\n",
       "    <tr>\n",
       "      <th>3</th>\n",
       "      <td>0</td>\n",
       "      <td>299.4</td>\n",
       "      <td>71</td>\n",
       "      <td>50.90</td>\n",
       "      <td>88</td>\n",
       "      <td>5.26</td>\n",
       "      <td>196.9</td>\n",
       "      <td>89</td>\n",
       "      <td>8.86</td>\n",
       "      <td>6.6</td>\n",
       "      <td>7</td>\n",
       "      <td>1.78</td>\n",
       "      <td>2</td>\n",
       "      <td>False</td>\n",
       "      <td>1</td>\n",
       "    </tr>\n",
       "    <tr>\n",
       "      <th>4</th>\n",
       "      <td>0</td>\n",
       "      <td>166.7</td>\n",
       "      <td>113</td>\n",
       "      <td>28.34</td>\n",
       "      <td>122</td>\n",
       "      <td>12.61</td>\n",
       "      <td>186.9</td>\n",
       "      <td>121</td>\n",
       "      <td>8.41</td>\n",
       "      <td>10.1</td>\n",
       "      <td>3</td>\n",
       "      <td>2.73</td>\n",
       "      <td>3</td>\n",
       "      <td>False</td>\n",
       "      <td>1</td>\n",
       "    </tr>\n",
       "  </tbody>\n",
       "</table>\n",
       "</div>"
      ],
      "text/plain": [
       "   number vmail messages  total day minutes  total day calls  \\\n",
       "0                     25              265.1              110   \n",
       "1                     26              161.6              123   \n",
       "2                      0              243.4              114   \n",
       "3                      0              299.4               71   \n",
       "4                      0              166.7              113   \n",
       "\n",
       "   total day charge  total eve calls  total eve charge  total night minutes  \\\n",
       "0             45.07               99             16.78                244.7   \n",
       "1             27.47              103             16.62                254.4   \n",
       "2             41.38              110             10.30                162.6   \n",
       "3             50.90               88              5.26                196.9   \n",
       "4             28.34              122             12.61                186.9   \n",
       "\n",
       "   total night calls  total night charge  total intl minutes  \\\n",
       "0                 91               11.01                10.0   \n",
       "1                103               11.45                13.7   \n",
       "2                104                7.32                12.2   \n",
       "3                 89                8.86                 6.6   \n",
       "4                121                8.41                10.1   \n",
       "\n",
       "   total intl calls  total intl charge  customer service calls  churn  \\\n",
       "0                 3               2.70                       1  False   \n",
       "1                 3               3.70                       1  False   \n",
       "2                 5               3.29                       0  False   \n",
       "3                 7               1.78                       2  False   \n",
       "4                 3               2.73                       3  False   \n",
       "\n",
       "   international plan  \n",
       "0                   0  \n",
       "1                   0  \n",
       "2                   0  \n",
       "3                   1  \n",
       "4                   1  "
      ]
     },
     "execution_count": 5,
     "metadata": {},
     "output_type": "execute_result"
    }
   ],
   "source": [
    "#data\n",
    "df = churn_data[['number vmail messages','total day minutes','total day calls','total day charge','total eve calls','total eve charge','total night minutes','total night calls','total night charge','total intl minutes','total intl calls','total intl charge','customer service calls','churn']]\n",
    "\n",
    "#concatinating data with categorical feature converted to numeric\n",
    "df = pd.concat([df, df1], axis=1, sort=False)\n",
    "df.head()\n"
   ]
  },
  {
   "cell_type": "code",
   "execution_count": 6,
   "metadata": {},
   "outputs": [
    {
     "data": {
      "text/html": [
       "<div>\n",
       "<style scoped>\n",
       "    .dataframe tbody tr th:only-of-type {\n",
       "        vertical-align: middle;\n",
       "    }\n",
       "\n",
       "    .dataframe tbody tr th {\n",
       "        vertical-align: top;\n",
       "    }\n",
       "\n",
       "    .dataframe thead th {\n",
       "        text-align: right;\n",
       "    }\n",
       "</style>\n",
       "<table border=\"1\" class=\"dataframe\">\n",
       "  <thead>\n",
       "    <tr style=\"text-align: right;\">\n",
       "      <th></th>\n",
       "      <th>number vmail messages</th>\n",
       "      <th>total day minutes</th>\n",
       "      <th>total day calls</th>\n",
       "      <th>total day charge</th>\n",
       "      <th>total eve calls</th>\n",
       "      <th>total eve charge</th>\n",
       "      <th>total night minutes</th>\n",
       "      <th>total night calls</th>\n",
       "      <th>total night charge</th>\n",
       "      <th>total intl minutes</th>\n",
       "      <th>total intl calls</th>\n",
       "      <th>total intl charge</th>\n",
       "      <th>customer service calls</th>\n",
       "      <th>international plan</th>\n",
       "    </tr>\n",
       "  </thead>\n",
       "  <tbody>\n",
       "    <tr>\n",
       "      <th>0</th>\n",
       "      <td>25</td>\n",
       "      <td>265.1</td>\n",
       "      <td>110</td>\n",
       "      <td>45.07</td>\n",
       "      <td>99</td>\n",
       "      <td>16.78</td>\n",
       "      <td>244.7</td>\n",
       "      <td>91</td>\n",
       "      <td>11.01</td>\n",
       "      <td>10.0</td>\n",
       "      <td>3</td>\n",
       "      <td>2.70</td>\n",
       "      <td>1</td>\n",
       "      <td>0</td>\n",
       "    </tr>\n",
       "    <tr>\n",
       "      <th>1</th>\n",
       "      <td>26</td>\n",
       "      <td>161.6</td>\n",
       "      <td>123</td>\n",
       "      <td>27.47</td>\n",
       "      <td>103</td>\n",
       "      <td>16.62</td>\n",
       "      <td>254.4</td>\n",
       "      <td>103</td>\n",
       "      <td>11.45</td>\n",
       "      <td>13.7</td>\n",
       "      <td>3</td>\n",
       "      <td>3.70</td>\n",
       "      <td>1</td>\n",
       "      <td>0</td>\n",
       "    </tr>\n",
       "    <tr>\n",
       "      <th>2</th>\n",
       "      <td>0</td>\n",
       "      <td>243.4</td>\n",
       "      <td>114</td>\n",
       "      <td>41.38</td>\n",
       "      <td>110</td>\n",
       "      <td>10.30</td>\n",
       "      <td>162.6</td>\n",
       "      <td>104</td>\n",
       "      <td>7.32</td>\n",
       "      <td>12.2</td>\n",
       "      <td>5</td>\n",
       "      <td>3.29</td>\n",
       "      <td>0</td>\n",
       "      <td>0</td>\n",
       "    </tr>\n",
       "    <tr>\n",
       "      <th>3</th>\n",
       "      <td>0</td>\n",
       "      <td>299.4</td>\n",
       "      <td>71</td>\n",
       "      <td>50.90</td>\n",
       "      <td>88</td>\n",
       "      <td>5.26</td>\n",
       "      <td>196.9</td>\n",
       "      <td>89</td>\n",
       "      <td>8.86</td>\n",
       "      <td>6.6</td>\n",
       "      <td>7</td>\n",
       "      <td>1.78</td>\n",
       "      <td>2</td>\n",
       "      <td>1</td>\n",
       "    </tr>\n",
       "    <tr>\n",
       "      <th>4</th>\n",
       "      <td>0</td>\n",
       "      <td>166.7</td>\n",
       "      <td>113</td>\n",
       "      <td>28.34</td>\n",
       "      <td>122</td>\n",
       "      <td>12.61</td>\n",
       "      <td>186.9</td>\n",
       "      <td>121</td>\n",
       "      <td>8.41</td>\n",
       "      <td>10.1</td>\n",
       "      <td>3</td>\n",
       "      <td>2.73</td>\n",
       "      <td>3</td>\n",
       "      <td>1</td>\n",
       "    </tr>\n",
       "  </tbody>\n",
       "</table>\n",
       "</div>"
      ],
      "text/plain": [
       "   number vmail messages  total day minutes  total day calls  \\\n",
       "0                     25              265.1              110   \n",
       "1                     26              161.6              123   \n",
       "2                      0              243.4              114   \n",
       "3                      0              299.4               71   \n",
       "4                      0              166.7              113   \n",
       "\n",
       "   total day charge  total eve calls  total eve charge  total night minutes  \\\n",
       "0             45.07               99             16.78                244.7   \n",
       "1             27.47              103             16.62                254.4   \n",
       "2             41.38              110             10.30                162.6   \n",
       "3             50.90               88              5.26                196.9   \n",
       "4             28.34              122             12.61                186.9   \n",
       "\n",
       "   total night calls  total night charge  total intl minutes  \\\n",
       "0                 91               11.01                10.0   \n",
       "1                103               11.45                13.7   \n",
       "2                104                7.32                12.2   \n",
       "3                 89                8.86                 6.6   \n",
       "4                121                8.41                10.1   \n",
       "\n",
       "   total intl calls  total intl charge  customer service calls  \\\n",
       "0                 3               2.70                       1   \n",
       "1                 3               3.70                       1   \n",
       "2                 5               3.29                       0   \n",
       "3                 7               1.78                       2   \n",
       "4                 3               2.73                       3   \n",
       "\n",
       "   international plan  \n",
       "0                   0  \n",
       "1                   0  \n",
       "2                   0  \n",
       "3                   1  \n",
       "4                   1  "
      ]
     },
     "execution_count": 6,
     "metadata": {},
     "output_type": "execute_result"
    }
   ],
   "source": [
    "#creating feature data frame\n",
    "X_df = df[['number vmail messages','total day minutes','total day calls','total day charge','total eve calls','total eve charge','total night minutes','total night calls','total night charge','total intl minutes','total intl calls','total intl charge','customer service calls','international plan']]\n",
    "X_df.head()\n"
   ]
  },
  {
   "cell_type": "markdown",
   "metadata": {},
   "source": [
    "##### Creating target dataframe"
   ]
  },
  {
   "cell_type": "code",
   "execution_count": 7,
   "metadata": {},
   "outputs": [
    {
     "data": {
      "text/html": [
       "<div>\n",
       "<style scoped>\n",
       "    .dataframe tbody tr th:only-of-type {\n",
       "        vertical-align: middle;\n",
       "    }\n",
       "\n",
       "    .dataframe tbody tr th {\n",
       "        vertical-align: top;\n",
       "    }\n",
       "\n",
       "    .dataframe thead th {\n",
       "        text-align: right;\n",
       "    }\n",
       "</style>\n",
       "<table border=\"1\" class=\"dataframe\">\n",
       "  <thead>\n",
       "    <tr style=\"text-align: right;\">\n",
       "      <th></th>\n",
       "      <th>churn</th>\n",
       "    </tr>\n",
       "  </thead>\n",
       "  <tbody>\n",
       "    <tr>\n",
       "      <th>0</th>\n",
       "      <td>0</td>\n",
       "    </tr>\n",
       "    <tr>\n",
       "      <th>1</th>\n",
       "      <td>0</td>\n",
       "    </tr>\n",
       "    <tr>\n",
       "      <th>2</th>\n",
       "      <td>0</td>\n",
       "    </tr>\n",
       "    <tr>\n",
       "      <th>3</th>\n",
       "      <td>0</td>\n",
       "    </tr>\n",
       "    <tr>\n",
       "      <th>4</th>\n",
       "      <td>0</td>\n",
       "    </tr>\n",
       "  </tbody>\n",
       "</table>\n",
       "</div>"
      ],
      "text/plain": [
       "   churn\n",
       "0      0\n",
       "1      0\n",
       "2      0\n",
       "3      0\n",
       "4      0"
      ]
     },
     "execution_count": 7,
     "metadata": {},
     "output_type": "execute_result"
    }
   ],
   "source": [
    "#creating target dataframe\n",
    "y = df[['churn']].astype(int)\n",
    "y.head()"
   ]
  },
  {
   "cell_type": "markdown",
   "metadata": {},
   "source": [
    "### 2- Split the data into 5% testing and 95% training data."
   ]
  },
  {
   "cell_type": "markdown",
   "metadata": {},
   "source": [
    "#### Splitting the data\n",
    "##### train_test_split() method is used from sklearn package, model selection module which splits the features and target data into training and testing dataset. here, we are using the test_size as 0.05 which well set the test data percentage as 5%"
   ]
  },
  {
   "cell_type": "code",
   "execution_count": 8,
   "metadata": {},
   "outputs": [],
   "source": [
    "#importing train_test_split from sklearn.model_selection\n",
    "from sklearn.model_selection import train_test_split\n",
    "\n",
    "#creating train and test dataset with train percentage as 0.05\n",
    "X_train, X_test, y_train, y_test = train_test_split(X_df,y,random_state = 50,test_size=0.05,train_size=0.95)"
   ]
  },
  {
   "cell_type": "markdown",
   "metadata": {},
   "source": [
    "### Calculating train and test percentages and shape"
   ]
  },
  {
   "cell_type": "code",
   "execution_count": 9,
   "metadata": {},
   "outputs": [
    {
     "name": "stdout",
     "output_type": "stream",
     "text": [
      "Training data percentage is 94.99 %\n",
      "Test data percentage is 5.01 %\n",
      "\n",
      "\n",
      "Features train shape(3166, 14)\n",
      "Features test shape(167, 14)\n",
      "\n",
      "\n",
      "Target train shape(3166, 1)\n",
      "Target test shape(167, 1)\n"
     ]
    }
   ],
   "source": [
    "#Train accuracy percentage\n",
    "print(\"Training data percentage is {:.2f}\".format(len(X_train)/len(df)*100)+\" %\")\n",
    "#Test accuracy percentage\n",
    "print(\"Test data percentage is {:.2f}\".format((len(X_test)/len(df))*100)+\" %\")\n",
    "\n",
    "print(\"\\n\")\n",
    "\n",
    "#Tain and test feature dataset shapes\n",
    "print(\"Features train shape\"+str(X_train.shape))\n",
    "print(\"Features test shape\"+str(X_test.shape))\n",
    "\n",
    "print(\"\\n\")\n",
    "\n",
    "#Tain and test target dataset shapes\n",
    "print(\"Target train shape\"+str(y_train.shape))\n",
    "print(\"Target test shape\"+str(y_test.shape))"
   ]
  },
  {
   "cell_type": "markdown",
   "metadata": {},
   "source": [
    "### 3- Scale(MinMaxScaler) the data and save it into a scaled version of the data."
   ]
  },
  {
   "cell_type": "markdown",
   "metadata": {},
   "source": [
    "#### Scaling the data using MinMaxScaler\n",
    "##### MinMaxScaler is being use to scale the data, it will normalize the data from 0 to 1, by calculating the scaled value of each feature using fromula  (X1 - Min)/(Max - Min)"
   ]
  },
  {
   "cell_type": "code",
   "execution_count": 10,
   "metadata": {},
   "outputs": [
    {
     "name": "stdout",
     "output_type": "stream",
     "text": [
      "[0.         0.65478905 0.78181818 0.6547619  0.61176471 0.92397282\n",
      " 0.45615923 0.71428571 0.45666467 0.48       0.05       0.47962963\n",
      " 0.11111111 0.        ]\n",
      "\n",
      "\n",
      "\n",
      "[0.         0.69156214 0.41818182 0.69148223 0.68823529 0.57489486\n",
      " 0.52850995 0.36842105 0.52898984 0.72       0.3        0.72037037\n",
      " 0.22222222 0.        ]\n"
     ]
    }
   ],
   "source": [
    "#importing the MinMaxSclaer from sklearn.preprocessing\n",
    "from sklearn.preprocessing import MinMaxScaler\n",
    "\n",
    "#creating an object of MinMaxScaler\n",
    "mms = MinMaxScaler()\n",
    "\n",
    "#Fitting the training features\n",
    "mms.fit(X_train)\n",
    "\n",
    "#transforming the train features\n",
    "X_train_scaled = mms.transform(X_train)\n",
    "print(X_train_scaled[0])\n",
    "\n",
    "print(\"\\n\\n\")\n",
    "\n",
    "#transforming the test features\n",
    "X_test_scaled = mms.transform(X_test)\n",
    "print(X_test_scaled[0])"
   ]
  },
  {
   "cell_type": "markdown",
   "metadata": {},
   "source": [
    "# 4- Build a machine learning model for the original data and the scaled data using the following methods:\n",
    " #### - Logistic regression\n",
    " #### - Linear SVM.\n",
    "\n"
   ]
  },
  {
   "cell_type": "markdown",
   "metadata": {},
   "source": [
    "## 1 Logistic regression\n",
    "##### Logistic Regression is a model which use the logistic function such as sigmoid, which helps in classifying the data into two clases, here it uses probablity to determine the data belong to which class.\n",
    "#### without scaling"
   ]
  },
  {
   "cell_type": "code",
   "execution_count": 11,
   "metadata": {},
   "outputs": [
    {
     "data": {
      "text/plain": [
       "LogisticRegression(C=1.0, class_weight=None, dual=False, fit_intercept=True,\n",
       "                   intercept_scaling=1, l1_ratio=None, max_iter=100,\n",
       "                   multi_class='auto', n_jobs=-1, penalty='l2',\n",
       "                   random_state=654, solver='lbfgs', tol=0.0001, verbose=0,\n",
       "                   warm_start=False)"
      ]
     },
     "execution_count": 11,
     "metadata": {},
     "output_type": "execute_result"
    }
   ],
   "source": [
    "#Building the model without sclaed features\n",
    "\n",
    "#importing the LogisticRegression from sklearn.LinearModel\n",
    "from sklearn.linear_model import LogisticRegression\n",
    "\n",
    "#Crating an object of LogisticRegression\n",
    "lr = LogisticRegression(random_state=654,n_jobs=-1)\n",
    "\n",
    "#fitting the train data\n",
    "lr.fit(X_train,y_train.values.ravel())\n"
   ]
  },
  {
   "cell_type": "markdown",
   "metadata": {},
   "source": [
    "#### with scaling"
   ]
  },
  {
   "cell_type": "code",
   "execution_count": 12,
   "metadata": {},
   "outputs": [
    {
     "data": {
      "text/plain": [
       "LogisticRegression(C=1.0, class_weight=None, dual=False, fit_intercept=True,\n",
       "                   intercept_scaling=1, l1_ratio=None, max_iter=100,\n",
       "                   multi_class='auto', n_jobs=-1, penalty='l2',\n",
       "                   random_state=654, solver='lbfgs', tol=0.0001, verbose=0,\n",
       "                   warm_start=False)"
      ]
     },
     "execution_count": 12,
     "metadata": {},
     "output_type": "execute_result"
    }
   ],
   "source": [
    "#Creating an object for Logisitic regression for scaled vales\n",
    "lr_sc = LogisticRegression(random_state=654,n_jobs=-1)\n",
    "\n",
    "#fitting the scaled train data\n",
    "lr_sc.fit(X_train_scaled,y_train.values.ravel())"
   ]
  },
  {
   "cell_type": "markdown",
   "metadata": {},
   "source": [
    "## 2 SVM\n",
    "##### We are using SVC which is Support Vector Classifier belongs to SVM, is a classifier whose objective is to fit the data which we provide and return a hyperplane that divide or classify the data into respective classes.\n",
    "#### without scaling"
   ]
  },
  {
   "cell_type": "code",
   "execution_count": 13,
   "metadata": {},
   "outputs": [
    {
     "data": {
      "text/plain": [
       "SVC(C=1.0, break_ties=False, cache_size=200, class_weight=None, coef0=0.0,\n",
       "    decision_function_shape='ovr', degree=3, gamma='scale', kernel='linear',\n",
       "    max_iter=-1, probability=False, random_state=654, shrinking=True, tol=0.001,\n",
       "    verbose=False)"
      ]
     },
     "execution_count": 13,
     "metadata": {},
     "output_type": "execute_result"
    }
   ],
   "source": [
    "#Building the model without sclaed features\n",
    "\n",
    "#importing the Support vector classifier from sklearn.LinearModel\n",
    "from sklearn.svm import SVC\n",
    "\n",
    "#Crating an object of SVC\n",
    "svc = SVC(random_state=654,kernel='linear')\n",
    "\n",
    "#fitting the train data\n",
    "svc.fit(X_train,y_train.values.ravel())\n"
   ]
  },
  {
   "cell_type": "markdown",
   "metadata": {},
   "source": [
    "#### with scaling"
   ]
  },
  {
   "cell_type": "code",
   "execution_count": 14,
   "metadata": {},
   "outputs": [
    {
     "data": {
      "text/plain": [
       "SVC(C=1.0, break_ties=False, cache_size=200, class_weight=None, coef0=0.0,\n",
       "    decision_function_shape='ovr', degree=3, gamma='scale', kernel='linear',\n",
       "    max_iter=-1, probability=False, random_state=654, shrinking=True, tol=0.001,\n",
       "    verbose=False)"
      ]
     },
     "execution_count": 14,
     "metadata": {},
     "output_type": "execute_result"
    }
   ],
   "source": [
    "#Creating an object of svm for scaled data\n",
    "svc_sc = SVC(random_state=654,kernel='linear')\n",
    "\n",
    "#fitting the scaled train data\n",
    "svc_sc.fit(X_train_scaled,y_train.values.ravel())\n"
   ]
  },
  {
   "cell_type": "markdown",
   "metadata": {},
   "source": [
    "#### 5- For the original data-set: calculate the accuracy of the testing and training data for each model, plot the accuracy of the models using a single plot. Explain why certain models achieved better accuracy for training or testing than the other model.\n",
    "\n"
   ]
  },
  {
   "cell_type": "code",
   "execution_count": 15,
   "metadata": {},
   "outputs": [
    {
     "name": "stdout",
     "output_type": "stream",
     "text": [
      "[0 0 0 1 0]\n",
      "[0 0 0 0 0]\n"
     ]
    }
   ],
   "source": [
    "#predicting target for Logistic regression\n",
    "y_pred_lr = lr.predict(X_test)\n",
    "print(y_pred_lr[0:5])\n",
    "\n",
    "#predicting target for svc\n",
    "y_pred_svc = svc.predict(X_test)\n",
    "print(y_pred_svc[0:5])"
   ]
  },
  {
   "cell_type": "code",
   "execution_count": 16,
   "metadata": {},
   "outputs": [
    {
     "name": "stdout",
     "output_type": "stream",
     "text": [
      "Train accuracy of Logistic regression 85.41%\n",
      "Test accuracy of Logistic regression 80.84%\n",
      "\n",
      "Train accuracy of SVC 85.75%\n",
      "Test accuracy of SVC 80.84%\n"
     ]
    }
   ],
   "source": [
    "#importing accuracy_score from sklearn.metrics\n",
    "#The accuracy score which helps in calculating the train and test accuracy based on the number of correctly classified data\n",
    "from sklearn.metrics import accuracy_score\n",
    "\n",
    "#calculating train accuracy for without scaled data for logistic regression\n",
    "train_lr_accuracy = lr.score(X_train,y_train)\n",
    "print(\"Train accuracy of Logistic regression {:.2f}\".format(train_lr_accuracy*100)+\"%\")\n",
    "\n",
    "#calculating test accuracy for without scaled data for logistic regression\n",
    "test_lr_accuracy = accuracy_score(y_test,y_pred_lr)\n",
    "print(\"Test accuracy of Logistic regression {:.2f}\".format(test_lr_accuracy*100)+\"%\")\n",
    "\n",
    "\n",
    "#calculating train accuracy for without scaled data for SVC\n",
    "train_svc_accuracy = svc.score(X_train,y_train)\n",
    "print(\"\\nTrain accuracy of SVC {:.2f}\".format(train_svc_accuracy*100)+\"%\")\n",
    "\n",
    "#calculating test accuracy for without scaled data for SVC\n",
    "test_svc_accuracy = accuracy_score(y_test,y_pred_svc)\n",
    "print(\"Test accuracy of SVC {:.2f}\".format(test_svc_accuracy*100)+\"%\")"
   ]
  },
  {
   "cell_type": "code",
   "execution_count": 17,
   "metadata": {},
   "outputs": [
    {
     "name": "stdout",
     "output_type": "stream",
     "text": [
      "['Logistic Regression', 'SVC']\n",
      "[85.41, 85.75]\n",
      "[80.84, 80.84]\n"
     ]
    }
   ],
   "source": [
    "label = ['Logistic Regression','SVC']\n",
    "print(label)\n",
    "\n",
    "train_acc = [round(train_lr_accuracy*100,2),round(train_svc_accuracy*100,2)]\n",
    "print(train_acc)\n",
    "\n",
    "test_acc = [round(test_lr_accuracy*100,2),round(test_svc_accuracy*100,2)]\n",
    "print(test_acc)"
   ]
  },
  {
   "cell_type": "code",
   "execution_count": 19,
   "metadata": {},
   "outputs": [
    {
     "data": {
      "image/png": "[encoded data removed]",
      "text/plain": [
       "<Figure size 720x288 with 1 Axes>"
      ]
     },
     "metadata": {
      "needs_background": "light"
     },
     "output_type": "display_data"
    }
   ],
   "source": [
    "x = np.arange(len(label))  \n",
    "width = 0.35  \n",
    "\n",
    "#fig= plt.figure(figsize=(10,4))\n",
    "fig, ax = plt.subplots(figsize=(10, 4))\n",
    "bar1 = ax.bar(x - width/2, train_acc, width, label='Train')\n",
    "bar2 = ax.bar(x + width/2, test_acc, width, label='Test')\n",
    "\n",
    "# Add some text for labels, title and custom x-axis tick labels, etc.\n",
    "ax.set_ylabel('Accuracy')\n",
    "ax.set_xlabel('Model')\n",
    "ax.set_title('Model train test accuracy comparison without scaling')\n",
    "ax.set_xticks(x)\n",
    "ax.set_xticklabels(label)\n",
    "ax.set_ylim([0, 100])\n",
    "ax.legend(loc='center right', bbox_to_anchor=(1.12, 0.9))\n",
    "\n",
    "\n",
    "def autolabel(rects):\n",
    "    for rect in rects:\n",
    "        height = rect.get_height()\n",
    "        #print(height)\n",
    "        ax.annotate('{}'.format(height),\n",
    "                    xy=(rect.get_x() + rect.get_width() / 2, height),\n",
    "                    xytext=(0, 3),\n",
    "                    textcoords=\"offset points\")\n",
    "\n",
    "\n",
    "autolabel(bar1)\n",
    "autolabel(bar2)\n",
    "\n",
    "fig.tight_layout()\n",
    "\n",
    "plt.show()"
   ]
  },
  {
   "cell_type": "markdown",
   "metadata": {},
   "source": [
    "- Here SVC is achieving higer accuracy as compared to Logistic Regression, as in SVC it classifies the data by building a hyperplane which helps us in distinguishing our classes, it also handles outliers while creating the hyperplane so it performs better compare to Logistic Regression which works on the probability of the data."
   ]
  },
  {
   "cell_type": "markdown",
   "metadata": {},
   "source": [
    "#### 6- For the scaled data-sets: calculate the accuracy of the testing data for each model, plot the accuracy of the models using a single plot.\n",
    "\n"
   ]
  },
  {
   "cell_type": "code",
   "execution_count": 20,
   "metadata": {},
   "outputs": [
    {
     "name": "stdout",
     "output_type": "stream",
     "text": [
      "[0 0 0 1 0]\n",
      "[0 0 0 0 0]\n"
     ]
    }
   ],
   "source": [
    "#predicting target for sclaed data for Logistic regression\n",
    "y_pred_lr_scaled = lr_sc.predict(X_test_scaled)\n",
    "print(y_pred_lr[0:5])\n",
    "\n",
    "#predicting target for scaled data for SVC\n",
    "y_pred_svc_scaled = svc_sc.predict(X_test_scaled)\n",
    "print(y_pred_svc[0:5])"
   ]
  },
  {
   "cell_type": "code",
   "execution_count": 21,
   "metadata": {},
   "outputs": [
    {
     "name": "stdout",
     "output_type": "stream",
     "text": [
      "Train accuracy of Logistic regression after scaling is 86.36%\n",
      "Test accuracy of Logistic regression after scaling is 83.83%\n",
      "\n",
      "Train accuracy of SVC after scaling is 85.75%\n",
      "Test accuracy of SVC after scaling is 80.84%\n"
     ]
    }
   ],
   "source": [
    "#importing accuracy_score from sklearn.metrics\n",
    "from sklearn.metrics import accuracy_score\n",
    "\n",
    "#calculating train accuracy for with scaled data for logistic regression\n",
    "train_lr_accuracy_scaled = lr_sc.score(X_train_scaled,y_train)\n",
    "print(\"Train accuracy of Logistic regression after scaling is {:.2f}\".format(train_lr_accuracy_scaled*100)+\"%\")\n",
    "\n",
    "#calculating train accuracy for with scaled data for logistic regression\n",
    "test_lr_accuracy_scaled = accuracy_score(y_test,y_pred_lr_scaled)\n",
    "print(\"Test accuracy of Logistic regression after scaling is {:.2f}\".format(test_lr_accuracy_scaled*100)+\"%\")\n",
    "\n",
    "\n",
    "#calculating train accuracy for with scaled data for SVC\n",
    "train_svc_accuracy_scaled = svc_sc.score(X_train_scaled,y_train)\n",
    "print(\"\\nTrain accuracy of SVC after scaling is {:.2f}\".format(train_svc_accuracy_scaled*100)+\"%\")\n",
    "\n",
    "#calculating train accuracy for with scaled data for SVC\n",
    "test_svc_accuracy_scaled = accuracy_score(y_test,y_pred_svc_scaled)\n",
    "print(\"Test accuracy of SVC after scaling is {:.2f}\".format(test_svc_accuracy_scaled*100)+\"%\")"
   ]
  },
  {
   "cell_type": "code",
   "execution_count": 22,
   "metadata": {},
   "outputs": [
    {
     "name": "stdout",
     "output_type": "stream",
     "text": [
      "['Logistic Regression', 'SVC']\n",
      "[86.36, 85.75]\n",
      "[83.83, 80.84]\n"
     ]
    }
   ],
   "source": [
    "label = ['Logistic Regression','SVC']\n",
    "print(label)\n",
    "\n",
    "train_acc_scaled = [round(train_lr_accuracy_scaled*100,2),round(train_svc_accuracy_scaled*100,2)]\n",
    "print(train_acc_scaled)\n",
    "\n",
    "test_acc_scaled = [round(test_lr_accuracy_scaled*100,2),round(test_svc_accuracy_scaled*100,2)]\n",
    "print(test_acc_scaled)"
   ]
  },
  {
   "cell_type": "code",
   "execution_count": 23,
   "metadata": {},
   "outputs": [
    {
     "data": {
      "image/png": "[encoded data removed]",
      "text/plain": [
       "<Figure size 720x288 with 1 Axes>"
      ]
     },
     "metadata": {
      "needs_background": "light"
     },
     "output_type": "display_data"
    }
   ],
   "source": [
    "x = np.arange(len(label))  \n",
    "width = 0.35  \n",
    "\n",
    "#fig= plt.figure(figsize=(10,4))\n",
    "fig, ax = plt.subplots(figsize=(10, 4))\n",
    "bar1 = ax.bar(x - width/2, train_acc_scaled, width, label='Train')\n",
    "bar2 = ax.bar(x + width/2, test_acc_scaled, width, label='Test')\n",
    "\n",
    "# Add some text for labels, title and custom x-axis tick labels, etc.\n",
    "ax.set_ylabel('Accuracy')\n",
    "ax.set_xlabel('Model')\n",
    "ax.set_title('Model train test accuracy comparison with scaling')\n",
    "ax.set_xticks(x)\n",
    "ax.set_xticklabels(label)\n",
    "ax.set_ylim([0, 100])\n",
    "ax.legend(loc='center right', bbox_to_anchor=(1.12, 0.9))\n",
    "\n",
    "\n",
    "def autolabel(rects):\n",
    "    for rect in rects:\n",
    "        height = rect.get_height()\n",
    "        #print(height)\n",
    "        ax.annotate('{}'.format(height),\n",
    "                    xy=(rect.get_x() + rect.get_width() / 2, height),\n",
    "                    xytext=(0, 3),\n",
    "                    textcoords=\"offset points\")\n",
    "\n",
    "\n",
    "autolabel(bar1)\n",
    "autolabel(bar2)\n",
    "\n",
    "fig.tight_layout()\n",
    "\n",
    "plt.show()"
   ]
  },
  {
   "cell_type": "markdown",
   "metadata": {},
   "source": [
    "#### 7- Any improvement in accuracy of the testing data because of the scaling? Explain your findings."
   ]
  },
  {
   "cell_type": "markdown",
   "metadata": {},
   "source": [
    "- There has been a small increase in the accuracy in case of logistic regression, where as for SVC the accuracies are same"
   ]
  },
  {
   "cell_type": "markdown",
   "metadata": {},
   "source": [
    "#### 8- Use a for loop to check the accuracies for C = 0.001, 1.0, 1000 for each model. Explain your observations."
   ]
  },
  {
   "cell_type": "markdown",
   "metadata": {},
   "source": [
    "#### For loop of C values without scaling for Logistic Regression"
   ]
  },
  {
   "cell_type": "code",
   "execution_count": 24,
   "metadata": {},
   "outputs": [
    {
     "name": "stdout",
     "output_type": "stream",
     "text": [
      "0.001\n",
      "For c = 0.001 Train accuracy is 85.94%\n",
      "For c = 0.001 Test accuracy is 80.84% \n",
      "\n",
      "1.0\n",
      "For c = 1.000 Train accuracy is 85.41%\n",
      "For c = 1.000 Test accuracy is 80.84% \n",
      "\n",
      "1000\n",
      "For c = 1000.000 Train accuracy is 85.47%\n",
      "For c = 1000.000 Test accuracy is 80.84% \n",
      "\n"
     ]
    }
   ],
   "source": [
    "#creating a list of C values\n",
    "c = [0.001,1.0,1000]\n",
    "\n",
    "#creating train and test accuracies list\n",
    "train_accuracies_lr =[]\n",
    "test_accuracies_lr =[]\n",
    "\n",
    "#looping for all c values\n",
    "for i in c:\n",
    "    print(i)\n",
    "    \n",
    "    #Building the model without sclaed features\n",
    "    \n",
    "    #Creting an object of Logistic Regression\n",
    "    lr = LogisticRegression(random_state=654,n_jobs=-1,C=i)\n",
    "    \n",
    "    #fitting the train data\n",
    "    lr.fit(X_train,y_train.values.ravel())\n",
    "    \n",
    "    #predicting target\n",
    "    y_pred_lr = lr.predict(X_test)\n",
    "    \n",
    "    #calculating train accuracy\n",
    "    train_acc_lr = lr.score(X_train,y_train)\n",
    "    print(\"For c = {:.3f} Train accuracy is {:.2f}\".format(i,train_acc_lr*100)+\"%\")\n",
    "    #appending train accuracy to list\n",
    "    train_accuracies_lr.append(round(train_acc_lr*100,2))\n",
    "    \n",
    "    #calculating test accuracy\n",
    "    test_acc_lr = accuracy_score(y_test,y_pred_lr)\n",
    "    print(\"For c = {:.3f} Test accuracy is {:.2f}\".format(i,test_acc_lr*100)+\"% \\n\")\n",
    "    #appending test accuracy to list\n",
    "    test_accuracies_lr.append(round(test_acc_lr*100,2))"
   ]
  },
  {
   "cell_type": "code",
   "execution_count": 25,
   "metadata": {},
   "outputs": [
    {
     "name": "stdout",
     "output_type": "stream",
     "text": [
      "[0.001, 1.0, 1000]\n",
      "[85.94, 85.41, 85.47]\n",
      "[80.84, 80.84, 80.84]\n"
     ]
    }
   ],
   "source": [
    "print(c)\n",
    "print(train_accuracies_lr)\n",
    "print(test_accuracies_lr)"
   ]
  },
  {
   "cell_type": "markdown",
   "metadata": {},
   "source": [
    "### Plotting the train and test accuracies for each C value without scaled data for Logistic Regression"
   ]
  },
  {
   "cell_type": "code",
   "execution_count": 26,
   "metadata": {},
   "outputs": [
    {
     "data": {
      "image/png": "[encoded data removed]",
      "text/plain": [
       "<Figure size 720x288 with 1 Axes>"
      ]
     },
     "metadata": {
      "needs_background": "light"
     },
     "output_type": "display_data"
    }
   ],
   "source": [
    "x = np.arange(len(c))  \n",
    "width = 0.35  \n",
    "\n",
    "#fig= plt.figure(figsize=(10,4))\n",
    "fig, ax = plt.subplots(figsize=(10, 4))\n",
    "bar1 = ax.bar(x - width/2, train_accuracies_lr, width, label='Train')\n",
    "bar2 = ax.bar(x + width/2, test_accuracies_lr, width, label='Test')\n",
    "\n",
    "# Add some text for labels, title and custom x-axis tick labels, etc.\n",
    "ax.set_ylabel('Accuracy')\n",
    "ax.set_xlabel('C values')\n",
    "ax.set_title('Model train test accuracy comparison without scaling')\n",
    "ax.set_xticks(x)\n",
    "ax.set_xticklabels(c)\n",
    "ax.set_ylim([0, 100])\n",
    "ax.legend(loc='center right', bbox_to_anchor=(1.12, 0.9))\n",
    "\n",
    "\n",
    "def autolabel(rects):\n",
    "    for rect in rects:\n",
    "        height = rect.get_height()\n",
    "        #print(height)\n",
    "        ax.annotate('{}'.format(height),\n",
    "                    xy=(rect.get_x() + rect.get_width() / 2, height),\n",
    "                    xytext=(0, 3),\n",
    "                    textcoords=\"offset points\")\n",
    "\n",
    "\n",
    "autolabel(bar1)\n",
    "autolabel(bar2)\n",
    "\n",
    "fig.tight_layout()\n",
    "\n",
    "plt.show()"
   ]
  },
  {
   "cell_type": "markdown",
   "metadata": {},
   "source": [
    "- From the plot for Logistic Regression for without scaled data for each C values, as the C value increases from 0.001 → 1 → 1000 , the train accuracy decreases from 85.94 → 85.41 but again with increse of C to 1000 a slight increase is being observed, whereas the test accuracies remain same for all."
   ]
  },
  {
   "cell_type": "markdown",
   "metadata": {},
   "source": [
    "### For loop of C values with scaling for Logistic Regression"
   ]
  },
  {
   "cell_type": "code",
   "execution_count": 27,
   "metadata": {},
   "outputs": [
    {
     "name": "stdout",
     "output_type": "stream",
     "text": [
      "0.001\n",
      "For c = 0.001 Train accuracy is 85.75%\n",
      "For c = 0.001 Test accuracy is 80.84% \n",
      "\n",
      "1.0\n",
      "For c = 1.000 Train accuracy is 86.36%\n",
      "For c = 1.000 Test accuracy is 80.84% \n",
      "\n",
      "1000\n",
      "For c = 1000.000 Train accuracy is 86.39%\n",
      "For c = 1000.000 Test accuracy is 80.84% \n",
      "\n"
     ]
    }
   ],
   "source": [
    "#creating a list of C values\n",
    "c = [0.001,1.0,1000]\n",
    "\n",
    "#creating train and test accuracies list\n",
    "train_scaled_accuracies_lr =[]\n",
    "test_scaled_accuracies_lr =[]\n",
    "\n",
    "#looping for all c values\n",
    "for i in c:\n",
    "    print(i)\n",
    "    \n",
    "    #Building the model without sclaed features\n",
    "    \n",
    "    #Creting an object of Logistic Regression\n",
    "    lr_sc = LogisticRegression(random_state=654,n_jobs=-1,C=i)\n",
    "    \n",
    "    #fitting the train data\n",
    "    lr_sc.fit(X_train_scaled,y_train.values.ravel())\n",
    "    \n",
    "    #predicting target\n",
    "    y_pred__scaledlr = lr_sc.predict(X_test_scaled)\n",
    "    \n",
    "    #calculating train accuracy\n",
    "    train_acc_lr_scaled = lr_sc.score(X_train_scaled,y_train)\n",
    "    print(\"For c = {:.3f} Train accuracy is {:.2f}\".format(i,train_acc_lr_scaled*100)+\"%\")\n",
    "    #appending train accuracy to list\n",
    "    train_scaled_accuracies_lr.append(round(train_acc_lr_scaled*100,2))\n",
    "    \n",
    "    #calculating test accuracy\n",
    "    test_acc_lr_scaled = accuracy_score(y_test,y_pred_lr)\n",
    "    print(\"For c = {:.3f} Test accuracy is {:.2f}\".format(i,test_acc_lr_scaled*100)+\"% \\n\")\n",
    "    #appending test accuracy to list\n",
    "    test_scaled_accuracies_lr.append(round(test_acc_lr_scaled*100,2))"
   ]
  },
  {
   "cell_type": "code",
   "execution_count": 28,
   "metadata": {},
   "outputs": [
    {
     "name": "stdout",
     "output_type": "stream",
     "text": [
      "[0.001, 1.0, 1000]\n",
      "[85.75, 86.36, 86.39]\n",
      "[80.84, 80.84, 80.84]\n"
     ]
    }
   ],
   "source": [
    "print(c)\n",
    "print(train_scaled_accuracies_lr)\n",
    "print(test_scaled_accuracies_lr)"
   ]
  },
  {
   "cell_type": "markdown",
   "metadata": {},
   "source": [
    "### Plotting the train and test accuracies with scaled data for Logistic Regression"
   ]
  },
  {
   "cell_type": "code",
   "execution_count": 29,
   "metadata": {},
   "outputs": [
    {
     "data": {
      "image/png": "[encoded data removed]",
      "text/plain": [
       "<Figure size 720x288 with 1 Axes>"
      ]
     },
     "metadata": {
      "needs_background": "light"
     },
     "output_type": "display_data"
    }
   ],
   "source": [
    "x = np.arange(len(c))  \n",
    "width = 0.35  \n",
    "\n",
    "#fig= plt.figure(figsize=(10,4))\n",
    "fig, ax = plt.subplots(figsize=(10, 4))\n",
    "bar1 = ax.bar(x - width/2, train_scaled_accuracies_lr, width, label='Train')\n",
    "bar2 = ax.bar(x + width/2, test_scaled_accuracies_lr, width, label='Test')\n",
    "\n",
    "# Add some text for labels, title and custom x-axis tick labels, etc.\n",
    "ax.set_ylabel('Accuracy')\n",
    "ax.set_xlabel('C values')\n",
    "ax.set_title('Model train test accuracy comparison with scaling')\n",
    "ax.set_xticks(x)\n",
    "ax.set_xticklabels(c)\n",
    "ax.set_ylim([0, 100])\n",
    "ax.legend(loc='center right', bbox_to_anchor=(1.12, 0.9))\n",
    "\n",
    "\n",
    "def autolabel(rects):\n",
    "    for rect in rects:\n",
    "        height = rect.get_height()\n",
    "        #print(height)\n",
    "        ax.annotate('{}'.format(height),\n",
    "                    xy=(rect.get_x() + rect.get_width() / 2, height),\n",
    "                    xytext=(0, 3),\n",
    "                    textcoords=\"offset points\")\n",
    "\n",
    "\n",
    "autolabel(bar1)\n",
    "autolabel(bar2)\n",
    "\n",
    "fig.tight_layout()\n",
    "\n",
    "plt.show()"
   ]
  },
  {
   "cell_type": "markdown",
   "metadata": {},
   "source": [
    "- From the plot for Logistic Regression for with scaled data for each C values, as the C value increases from 0.001 → 1 → 1000 , the train accuracy is also increasing slightly, whereas the test accuracies remain same for all."
   ]
  },
  {
   "cell_type": "markdown",
   "metadata": {},
   "source": [
    "#### For loop of C values without scaling for svc"
   ]
  },
  {
   "cell_type": "code",
   "execution_count": 19,
   "metadata": {},
   "outputs": [
    {
     "name": "stdout",
     "output_type": "stream",
     "text": [
      "0.001\n",
      "For c = 0.001 Train accuracy is 85.75%\n",
      "For c = 0.001 Test accuracy is 80.84% \n",
      "\n",
      "1.0\n",
      "For c = 1.000 Train accuracy is 85.75%\n",
      "For c = 1.000 Test accuracy is 80.84% \n",
      "\n",
      "1000\n",
      "For c = 1000.000 Train accuracy is 86.54%\n",
      "For c = 1000.000 Test accuracy is 83.83% \n",
      "\n"
     ]
    }
   ],
   "source": [
    "#creating a list of C values\n",
    "c = [0.001,1.0,1000]\n",
    "\n",
    "#creating train and test accuracies list\n",
    "train_accuracies =[]\n",
    "test_accuracies =[]\n",
    "\n",
    "#looping for all c values\n",
    "for i in c:\n",
    "    print(i)\n",
    "    \n",
    "    #Building the model without sclaed features\n",
    "    \n",
    "    #Creting an object of SVC\n",
    "    svc = SVC(random_state=654,kernel='linear',C=i)\n",
    "    \n",
    "    #fitting the train data\n",
    "    svc.fit(X_train,y_train.values.ravel())\n",
    "    \n",
    "    #predicting target\n",
    "    y_pred_c = svc.predict(X_test)\n",
    "    \n",
    "    #calculating train accuracy\n",
    "    train_acc_svc_c = svc.score(X_train,y_train)\n",
    "    print(\"For c = {:.3f} Train accuracy is {:.2f}\".format(i,train_acc_svc_c*100)+\"%\")\n",
    "    #appending train accuracy to list\n",
    "    train_accuracies.append(round(train_acc_svc_c*100,2))\n",
    "    \n",
    "    #calculating test accuracy\n",
    "    test_acc_svc_c = accuracy_score(y_test,y_pred_c)\n",
    "    print(\"For c = {:.3f} Test accuracy is {:.2f}\".format(i,test_acc_svc_c*100)+\"% \\n\")\n",
    "    #appending test accuracy to list\n",
    "    test_accuracies.append(round(test_acc_svc_c*100,2))\n",
    "    \n"
   ]
  },
  {
   "cell_type": "code",
   "execution_count": 20,
   "metadata": {},
   "outputs": [
    {
     "name": "stdout",
     "output_type": "stream",
     "text": [
      "[0.001, 1.0, 1000]\n",
      "[85.75, 85.75, 86.54]\n",
      "[80.84, 80.84, 83.83]\n"
     ]
    }
   ],
   "source": [
    "print(c)\n",
    "print(train_accuracies)\n",
    "print(test_accuracies)"
   ]
  },
  {
   "cell_type": "markdown",
   "metadata": {},
   "source": [
    "### Plotting the train and test accuracies without scaled data for SVC"
   ]
  },
  {
   "cell_type": "code",
   "execution_count": 22,
   "metadata": {},
   "outputs": [
    {
     "data": {
      "image/png": "[encoded data removed]",
      "text/plain": [
       "<Figure size 720x288 with 1 Axes>"
      ]
     },
     "metadata": {
      "needs_background": "light"
     },
     "output_type": "display_data"
    }
   ],
   "source": [
    "x = np.arange(len(c))  \n",
    "width = 0.35  \n",
    "\n",
    "#fig= plt.figure(figsize=(10,4))\n",
    "fig, ax = plt.subplots(figsize=(10, 4))\n",
    "bar1 = ax.bar(x - width/2, train_accuracies, width, label='Train')\n",
    "bar2 = ax.bar(x + width/2, test_accuracies, width, label='Test')\n",
    "\n",
    "# Add some text for labels, title and custom x-axis tick labels, etc.\n",
    "ax.set_ylabel('Accuracy')\n",
    "ax.set_xlabel('C values')\n",
    "ax.set_title('Model train test accuracy comparison without scaling')\n",
    "ax.set_xticks(x)\n",
    "ax.set_xticklabels(c)\n",
    "ax.set_ylim([0, 100])\n",
    "ax.legend(loc='center right', bbox_to_anchor=(1.12, 0.9))\n",
    "\n",
    "\n",
    "def autolabel(rects):\n",
    "    for rect in rects:\n",
    "        height = rect.get_height()\n",
    "        #print(height)\n",
    "        ax.annotate('{}'.format(height),\n",
    "                    xy=(rect.get_x() + rect.get_width() / 2, height),\n",
    "                    xytext=(0, 3),\n",
    "                    textcoords=\"offset points\")\n",
    "\n",
    "\n",
    "autolabel(bar1)\n",
    "autolabel(bar2)\n",
    "\n",
    "fig.tight_layout()\n",
    "\n",
    "plt.show()"
   ]
  },
  {
   "cell_type": "markdown",
   "metadata": {},
   "source": [
    "- From the plot for SVC for without scaled data for each C values, as the C value increases from 0.001 → 1 → 1000 , the train accuracy reamins same for C = 0.001 & 1.0 and it increases slightly for C = 1000 , also the same pattern is being observed for test accuracies."
   ]
  },
  {
   "cell_type": "markdown",
   "metadata": {},
   "source": [
    "##### For loop of C values with scaled data for SVC"
   ]
  },
  {
   "cell_type": "code",
   "execution_count": 30,
   "metadata": {},
   "outputs": [
    {
     "name": "stdout",
     "output_type": "stream",
     "text": [
      "0.001\n",
      "For c = 0.001 Train accuracy is 85.75%\n",
      "For c = 0.0010 Test accuracy is 80.84% \n",
      "\n",
      "1.0\n",
      "For c = 1.000 Train accuracy is 85.75%\n",
      "For c = 1.0000 Test accuracy is 80.84% \n",
      "\n",
      "1000\n",
      "For c = 1000.000 Train accuracy is 85.75%\n",
      "For c = 1000.0000 Test accuracy is 80.84% \n",
      "\n"
     ]
    }
   ],
   "source": [
    "c = [0.001,1.0,1000]\n",
    "\n",
    "train_accuracy_scaled =[]\n",
    "test_accuracy_scaled =[]\n",
    "\n",
    "for i in c:\n",
    "    print(i)\n",
    "    \n",
    "    #Building the model without sclaed features\n",
    "    \n",
    "    #Creting an object of SVC\n",
    "    svc_sc = SVC(random_state=654,kernel='linear',C=i)\n",
    "    \n",
    "    #fitting the train data\n",
    "    svc_sc.fit(X_train_scaled,y_train.values.ravel())\n",
    "    \n",
    "    #predicting target values with scaled data\n",
    "    y_pred_c_scaled = svc.predict(X_test_scaled)\n",
    "    \n",
    "    #train accuracy for scaled data\n",
    "    train_acc_svc_c_sc = svc.score(X_train_scaled,y_train)\n",
    "    print(\"For c = {:.3f} Train accuracy is {:.2f}\".format(i,train_acc_svc_c_sc*100)+\"%\")\n",
    "    #appending train accuracy to list\n",
    "    train_accuracy_scaled.append(round(train_acc_svc_c_sc*100,2))\n",
    "    \n",
    "    #test accuracy for scaled data\n",
    "    test_acc_svc_c_sc = accuracy_score(y_test,y_pred_c_scaled)\n",
    "    print(\"For c = {:.4f} Test accuracy is {:.2f}\".format(i,test_acc_svc_c_sc*100)+\"% \\n\")\n",
    "    #appending test accuracy to list\n",
    "    test_accuracy_scaled.append(round(test_acc_svc_c_sc*100,2))\n",
    "    \n"
   ]
  },
  {
   "cell_type": "code",
   "execution_count": 31,
   "metadata": {},
   "outputs": [
    {
     "name": "stdout",
     "output_type": "stream",
     "text": [
      "[0.001, 1.0, 1000]\n",
      "[85.75, 85.75, 85.75]\n",
      "[80.84, 80.84, 80.84]\n"
     ]
    }
   ],
   "source": [
    "print(c)\n",
    "print(train_accuracy_scaled)\n",
    "print(test_accuracy_scaled)"
   ]
  },
  {
   "cell_type": "markdown",
   "metadata": {},
   "source": [
    "#### Plotting the train and test accuracies with scaled data for SVC"
   ]
  },
  {
   "cell_type": "code",
   "execution_count": 32,
   "metadata": {},
   "outputs": [
    {
     "data": {
      "image/png": "[encoded data removed]",
      "text/plain": [
       "<Figure size 720x288 with 1 Axes>"
      ]
     },
     "metadata": {
      "needs_background": "light"
     },
     "output_type": "display_data"
    }
   ],
   "source": [
    "x = np.arange(len(c))  \n",
    "width = 0.35  \n",
    "\n",
    "#fig= plt.figure(figsize=(10,4))\n",
    "fig, ax = plt.subplots(figsize=(10, 4))\n",
    "bar1 = ax.bar(x - width/2, train_accuracy_scaled, width, label='Train')\n",
    "bar2 = ax.bar(x + width/2, test_accuracy_scaled, width, label='Test')\n",
    "\n",
    "# Add some text for labels, title and custom x-axis tick labels, etc.\n",
    "ax.set_ylabel('Accuracy')\n",
    "ax.set_xlabel('C values')\n",
    "ax.set_title('Model train test accuracy comparison with scaled data')\n",
    "ax.set_xticks(x)\n",
    "ax.set_xticklabels(c)\n",
    "ax.set_ylim([0, 100])\n",
    "ax.legend(loc='center right', bbox_to_anchor=(1.12, 0.9))\n",
    "\n",
    "\n",
    "def autolabel(rects):\n",
    "    for rect in rects:\n",
    "        height = rect.get_height()\n",
    "        #print(height)\n",
    "        ax.annotate('{}'.format(height),\n",
    "                    xy=(rect.get_x() + rect.get_width() / 2, height),\n",
    "                    xytext=(0, 3),\n",
    "                    textcoords=\"offset points\")\n",
    "\n",
    "\n",
    "autolabel(bar1)\n",
    "autolabel(bar2)\n",
    "\n",
    "fig.tight_layout()\n",
    "\n",
    "plt.show()"
   ]
  },
  {
   "cell_type": "markdown",
   "metadata": {},
   "source": [
    "- From the plot for SVC for with scaled data for each C values, as the C value increases from 0.001 → 1 → 1000 , the train and the test accuracies remains same."
   ]
  },
  {
   "cell_type": "markdown",
   "metadata": {},
   "source": [
    "### Classification report and confusion matrix for SVC without scaled data\n",
    "- Classification report will gives the metric details like precision, recall, f1 score and confusion metrics will give us information about hou much true positives, true negatives, false positives, and false negatives are there."
   ]
  },
  {
   "cell_type": "code",
   "execution_count": 40,
   "metadata": {},
   "outputs": [
    {
     "name": "stdout",
     "output_type": "stream",
     "text": [
      "              precision    recall  f1-score   support\n",
      "\n",
      "           0       0.81      1.00      0.89       135\n",
      "           1       0.00      0.00      0.00        32\n",
      "\n",
      "    accuracy                           0.81       167\n",
      "   macro avg       0.40      0.50      0.45       167\n",
      "weighted avg       0.65      0.81      0.72       167\n",
      "\n",
      "[[135   0]\n",
      " [ 32   0]]\n"
     ]
    }
   ],
   "source": [
    "y_pred_c = svc.predict(X_test)\n",
    "from sklearn.metrics import classification_report,confusion_matrix\n",
    "\n",
    "#finding the classification report\n",
    "results =  classification_report(y_test,y_pred_c, zero_division=0)\n",
    "print(results)\n",
    "\n",
    "#printing confusion matrix\n",
    "cnf =  confusion_matrix(y_test,y_pred_c)\n",
    "print(cnf)"
   ]
  },
  {
   "cell_type": "markdown",
   "metadata": {},
   "source": [
    "#### Classification report and confusion matrix for SVC with scaled data\n"
   ]
  },
  {
   "cell_type": "code",
   "execution_count": 39,
   "metadata": {},
   "outputs": [
    {
     "name": "stdout",
     "output_type": "stream",
     "text": [
      "              precision    recall  f1-score   support\n",
      "\n",
      "           0       0.81      1.00      0.89       135\n",
      "           1       0.00      0.00      0.00        32\n",
      "\n",
      "    accuracy                           0.81       167\n",
      "   macro avg       0.40      0.50      0.45       167\n",
      "weighted avg       0.65      0.81      0.72       167\n",
      "\n",
      "[[135   0]\n",
      " [ 32   0]]\n"
     ]
    }
   ],
   "source": [
    "y_pred_c_scaled = svc.predict(X_test)\n",
    "from sklearn.metrics import classification_report,confusion_matrix\n",
    "\n",
    "#finding the classification report\n",
    "results =  classification_report(y_test,y_pred_c_scaled, zero_division=0)\n",
    "print(results)\n",
    "\n",
    "#printing confusion matrix\n",
    "cnf =  confusion_matrix(y_test,y_pred_c_scaled)\n",
    "print(cnf)\n"
   ]
  },
  {
   "cell_type": "markdown",
   "metadata": {},
   "source": [
    "##### References:\n",
    "\n",
    "https://matplotlib.org/3.1.1/gallery/lines_bars_and_markers/barchart.html#sphx-glr-gallery-lines-bars-and-markers-barchart-py\n",
    "https://datascience.stackexchange.com/questions/25596/how-to-plot-two-columns-of-single-dataframe-on-y-axis"
   ]
  }
 ],
 "metadata": {
  "kernelspec": {
   "display_name": "Python 3",
   "language": "python",
   "name": "python3"
  },
  "language_info": {
   "codemirror_mode": {
    "name": "ipython",
    "version": 3
   },
   "file_extension": ".py",
   "mimetype": "text/x-python",
   "name": "python",
   "nbconvert_exporter": "python",
   "pygments_lexer": "ipython3",
   "version": "3.7.9"
  }
 },
 "nbformat": 4,
 "nbformat_minor": 4
}
